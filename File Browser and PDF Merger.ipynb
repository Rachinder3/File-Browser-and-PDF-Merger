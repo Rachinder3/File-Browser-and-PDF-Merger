{
 "cells": [
  {
   "cell_type": "code",
   "execution_count": 1,
   "id": "e1b1ad9e",
   "metadata": {},
   "outputs": [],
   "source": [
    "from tkinter import *"
   ]
  },
  {
   "cell_type": "code",
   "execution_count": 11,
   "id": "60467117",
   "metadata": {},
   "outputs": [],
   "source": [
    "# Using Grid"
   ]
  },
  {
   "cell_type": "code",
   "execution_count": 1,
   "id": "f8e06a21",
   "metadata": {},
   "outputs": [],
   "source": [
    "import os"
   ]
  },
  {
   "cell_type": "code",
   "execution_count": 2,
   "id": "065bc06a",
   "metadata": {},
   "outputs": [],
   "source": [
    "from tkinter import *\n",
    "import tkinter.messagebox as tmsg"
   ]
  },
  {
   "cell_type": "code",
   "execution_count": 3,
   "id": "9728105f",
   "metadata": {},
   "outputs": [],
   "source": [
    "import PyPDF2"
   ]
  },
  {
   "cell_type": "code",
   "execution_count": 4,
   "id": "8019e703",
   "metadata": {},
   "outputs": [
    {
     "data": {
      "text/plain": [
       "'.\\\\result.pdf'"
      ]
     },
     "execution_count": 4,
     "metadata": {},
     "output_type": "execute_result"
    }
   ],
   "source": [
    "os.path.join(os.curdir,\"result.pdf\")"
   ]
  },
  {
   "cell_type": "code",
   "execution_count": 5,
   "id": "7fbea72e",
   "metadata": {},
   "outputs": [
    {
     "data": {
      "text/plain": [
       "['.ipynb_checkpoints', 'File Browser and PDF Merger.ipynb', 'result.pdf']"
      ]
     },
     "execution_count": 5,
     "metadata": {},
     "output_type": "execute_result"
    }
   ],
   "source": [
    "os.listdir()"
   ]
  },
  {
   "cell_type": "code",
   "execution_count": 6,
   "id": "0f903577",
   "metadata": {},
   "outputs": [],
   "source": [
    "def merge_pdfs():\n",
    "    \n",
    "    '''function responsible for merging pdfs found in the directory.'''\n",
    "    \n",
    "    if len(pdf_list)==0:   # if pdf_list size is 0, there is no pdf \n",
    "        tmsg.showinfo(\"NO PDFS!!!\",\"No pdf files. Please Do another directory search  !!!!\")\n",
    "    \n",
    "    \n",
    "    else:\n",
    "        \n",
    "        final_path=os.path.join(os.curdir,\"result.pdf\")  # final file is to be stored here.\n",
    "        \n",
    "        if os.path.exists(final_path):   # delete the file if it already exists from previous runs.\n",
    "            os.remove(final_path)\n",
    "        \n",
    "        \n",
    "        merger=PyPDF2.PdfFileMerger(strict=False)  # creating PDFFileMerger Object\n",
    "\n",
    "\n",
    "\n",
    "        for pdf in pdf_list:     # iterating over pdf list\n",
    "            \n",
    "            try:\n",
    "                merger.append(pdf)\n",
    "            except:\n",
    "                continue\n",
    "\n",
    "        \n",
    "        merger.write(final_path)  # creating final file\n",
    "\n",
    "\n",
    "        tmsg.showinfo(\"PDFs Merged\", \"Found PDFs have been merged. The Final file can be found at {}\".format(final_path))\n",
    "    \n",
    "    "
   ]
  },
  {
   "cell_type": "code",
   "execution_count": 7,
   "id": "3982c0f5",
   "metadata": {},
   "outputs": [],
   "source": [
    "def searchFiles():\n",
    "    \n",
    "    '''searches all the files present in this directory.'''\n",
    "    \n",
    "    \n",
    "    directory= file_directory_var.get() # getting directory povided by human\n",
    "    \n",
    "    \n",
    "    \n",
    "   \n",
    "    total_files=0 # variable storing total number of files found.\n",
    "    \n",
    "    \n",
    "    \n",
    "    statusvar.set(\"Processing: \"+file_directory_var.get())  # setting the status to processing.\n",
    "    \n",
    "    \n",
    "    # performing the walk on directory\n",
    "    for x, dirs, files in os.walk(directory, topdown=False): \n",
    "        for name in files:\n",
    "            \n",
    "            file=os.path.join(x, name)\n",
    "            \n",
    "            # inserting the file found in the text box\n",
    "            found_files_text_box.insert(END,file+\"\\n\")\n",
    "            total_files+=1\n",
    "            \n",
    "            # checking if file is pdf\n",
    "            if file.split('.')[-1]=='pdf':\n",
    "                pdf_list.append(file)\n",
    "            \n",
    "            \n",
    "        for name in dirs:\n",
    "            file=os.path.join(x, name)\n",
    "           \n",
    "            # inserting the file found in the text box\n",
    "            found_files_text_box.insert(END, file+\"\\n\")\n",
    "            total_files+=1\n",
    "            \n",
    "            # checking if file is pdf\n",
    "            if file.split('.')[-1]=='pdf':\n",
    "                pdf_list.append(file)\n",
    "    \n",
    "    \n",
    "    \n",
    "    \n",
    "    \n",
    "    \n",
    "    \n",
    "    statusvar.set(\"                    Done                   \") # setting the status of statusvar to Done\n",
    "    tmsg.showinfo(\"Done Processing\", \"Found {} files\".format(str(total_files)))\n",
    "    \n",
    "    \n",
    "    \n",
    "    "
   ]
  },
  {
   "cell_type": "code",
   "execution_count": 16,
   "id": "58b5730c",
   "metadata": {
    "scrolled": true
   },
   "outputs": [],
   "source": [
    "root=Tk()  # creating object of Tk class\n",
    "root.title(\"File Browser and PDF Merger\") # Adding title\n",
    "root.wm_iconbitmap(\"icon.ico\")   # setting the icon of GUI\n",
    "root.geometry(\"1200x500\")  # setting the geometry of GUI\n",
    "\n",
    "root.minsize(1200,500)  # setting the minsize of GUI\n",
    "root.maxsize(1200,500) # setting the maxsize of GUI\n",
    "\n",
    "# Creating the heading\n",
    "\n",
    "title=Label(root,text=\"File Browser and PDF Merging Tool\", bg=\"pink\", fg=\"black\",\n",
    "           font=\"helvetica 20\", relief=SUNKEN)\n",
    "title.grid(row=0, column=1)  \n",
    "\n",
    "\n",
    "\n",
    "\n",
    "pdf_list=[]  # list to store pdfs found.\n",
    "\n",
    "\n",
    "\n",
    "\n",
    "file_input_label=Label(text=\"File Directory\", bg='pink', fg=\"black\", borderwidth=2,relief=SUNKEN)  # creating a label\n",
    "\n",
    "file_input_label.grid(row=1, column=0, pady=20) \n",
    "\n",
    " \n",
    "file_directory_var=StringVar()  # variable that stores the directory path enetered by end user.\n",
    "file_directory_var.set(\"\") # setting the variable to be empty initially.\n",
    "\n",
    "file_directory_entry=Entry(root, textvariable=file_directory_var, borderwidth=2,relief=SUNKEN) # Entry Widget to take input from human\n",
    "\n",
    "file_directory_entry.grid(row=1,column=1, pady=20, padx=10)\n",
    "\n",
    "\n",
    "# search files button\n",
    "\n",
    "search_btn=Button(root, text=\"Search Files\", command=searchFiles, bg='pink', fg='black')  # search button\n",
    "search_btn.grid(row=2, column=0)\n",
    "\n",
    "\n",
    "\n",
    "# text box search label\n",
    "found_files_label = Label(root, text=\"Found Files: \", bg='pink', fg='black')  \n",
    "found_files_label.grid(row=3, column=0, padx=10, pady=20)\n",
    "\n",
    "\n",
    "\n",
    "# text box to store the found files\n",
    "\n",
    "found_files_text_box= Text(root, width=90, height=10)  # text box that stores the found values.\n",
    "found_files_text_box.grid(row=3, column=1, padx=10, pady=20)\n",
    "\n",
    "\n",
    "\n",
    "\n",
    "# merge pdf button\n",
    "\n",
    "merge_pdf_btn=Button(root, text=\"Merge PDFs\", command=merge_pdfs, bg='pink', fg='black') # merge pdf button\n",
    "merge_pdf_btn.grid(row=4, column=0)\n",
    "\n",
    "\n",
    "\n",
    "# Creating the status bar\n",
    "\n",
    "\n",
    "statusvar=StringVar() # status variable\n",
    "statusvar.set(\"                              Ready                           \")  # Making the default value pf statusvar as Ready\n",
    "status_bar=Label(root, textvariable=statusvar, bg=\"pink\", fg=\"black\", anchor='w', relief=SUNKEN)\n",
    "#status_bar.pack(side=\"bottom\", fill=X)\n",
    "status_bar.grid(row=5, column=0, columnspan=3, pady=100)\n",
    "\n",
    "\n",
    "\n",
    "root.config(bg=\"Black\")  # Making background of GUI as black\n",
    "\n",
    "root.mainloop()\n"
   ]
  },
  {
   "cell_type": "code",
   "execution_count": null,
   "id": "79a4fa79",
   "metadata": {},
   "outputs": [],
   "source": []
  },
  {
   "cell_type": "code",
   "execution_count": null,
   "id": "0b196255",
   "metadata": {},
   "outputs": [],
   "source": []
  }
 ],
 "metadata": {
  "kernelspec": {
   "display_name": "Python 3",
   "language": "python",
   "name": "python3"
  },
  "language_info": {
   "codemirror_mode": {
    "name": "ipython",
    "version": 3
   },
   "file_extension": ".py",
   "mimetype": "text/x-python",
   "name": "python",
   "nbconvert_exporter": "python",
   "pygments_lexer": "ipython3",
   "version": "3.8.8"
  }
 },
 "nbformat": 4,
 "nbformat_minor": 5
}
