{
 "cells": [
  {
   "cell_type": "code",
   "execution_count": 1,
   "id": "e1b1ad9e",
   "metadata": {},
   "outputs": [],
   "source": [
    "from tkinter import *"
   ]
  },
  {
   "cell_type": "code",
   "execution_count": 11,
   "id": "60467117",
   "metadata": {},
   "outputs": [],
   "source": [
    "# Using Grid"
   ]
  },
  {
   "cell_type": "code",
   "execution_count": 1,
   "id": "7db58795",
   "metadata": {},
   "outputs": [],
   "source": [
    "import os"
   ]
  },
  {
   "cell_type": "code",
   "execution_count": 2,
   "id": "05dd12fb",
   "metadata": {},
   "outputs": [],
   "source": [
    "from tkinter import *\n",
    "import tkinter.messagebox as tmsg"
   ]
  },
  {
   "cell_type": "code",
   "execution_count": 3,
   "id": "95c3d6d4",
   "metadata": {},
   "outputs": [],
   "source": [
    "import PyPDF2"
   ]
  },
  {
   "cell_type": "code",
   "execution_count": 4,
   "id": "d6ce107e",
   "metadata": {},
   "outputs": [
    {
     "data": {
      "text/plain": [
       "'.\\\\result.pdf'"
      ]
     },
     "execution_count": 4,
     "metadata": {},
     "output_type": "execute_result"
    }
   ],
   "source": [
    "os.path.join(os.curdir,\"result.pdf\")"
   ]
  },
  {
   "cell_type": "code",
   "execution_count": 5,
   "id": "14679e4b",
   "metadata": {},
   "outputs": [
    {
     "data": {
      "text/plain": [
       "['.ipynb_checkpoints', 'File Browser and PDF Merger.ipynb', 'result.pdf']"
      ]
     },
     "execution_count": 5,
     "metadata": {},
     "output_type": "execute_result"
    }
   ],
   "source": [
    "os.listdir()"
   ]
  },
  {
   "cell_type": "code",
   "execution_count": 6,
   "id": "5333a790",
   "metadata": {},
   "outputs": [],
   "source": [
    "def merge_pdfs():\n",
    "    \n",
    "    if len(pdf_list)==0:\n",
    "        tmsg.showinfo(\"NO PDFS!!!\",\"No pdf files. Please Do another directory search  !!!!\")\n",
    "    \n",
    "    \n",
    "    else:\n",
    "        \n",
    "        final_path=os.path.join(os.curdir,\"result.pdf\")\n",
    "        \n",
    "        if os.path.exists(final_path):\n",
    "            os.remove(final_path)\n",
    "        \n",
    "        \n",
    "        merger=PyPDF2.PdfFileMerger(strict=False)\n",
    "\n",
    "\n",
    "\n",
    "        for pdf in pdf_list:\n",
    "            #print(pdf)\n",
    "            try:\n",
    "                merger.append(pdf)\n",
    "            except:\n",
    "                continue\n",
    "\n",
    "        \n",
    "        merger.write(final_path)\n",
    "\n",
    "\n",
    "        tmsg.showinfo(\"PDFs Merged\", \"Found PDFs have been merged. The Final file can be found at {}\".format(final_path))\n",
    "    \n",
    "    "
   ]
  },
  {
   "cell_type": "code",
   "execution_count": 7,
   "id": "24e4a8ae",
   "metadata": {},
   "outputs": [],
   "source": [
    "def searchFiles():\n",
    "    #print(file_directory_var.get())\n",
    "    \n",
    "    \n",
    "    directory= file_directory_var.get()\n",
    "    # performing the walk on directory\n",
    "    total_files=0\n",
    "    \n",
    "    \n",
    "    \n",
    "    statusvar.set(\"Processing: \"+file_directory_var.get())\n",
    "    \n",
    "    for x, dirs, files in os.walk(directory, topdown=False):\n",
    "        for name in files:\n",
    "            #print(os.path.join(x, name))\n",
    "            file=os.path.join(x, name)\n",
    "            found_files_text_box.insert(END,file+\"\\n\")\n",
    "            total_files+=1\n",
    "            \n",
    "            if file.split('.')[-1]=='pdf':\n",
    "                pdf_list.append(file)\n",
    "            \n",
    "            \n",
    "        for name in dirs:\n",
    "            file=os.path.join(x, name)\n",
    "            #print(os.path.join(x, name))\n",
    "            found_files_text_box.insert(END, file+\"\\n\")\n",
    "            total_files+=1\n",
    "            \n",
    "            if file.split('.')[-1]=='pdf':\n",
    "                pdf_list.append(file)\n",
    "    \n",
    "    \n",
    "    \n",
    "    \n",
    "    #found_files_text_box.insert(END,file_directory_var.get()+\"\\n\")\n",
    "    \n",
    "    \n",
    "    statusvar.set(\"                    Done                   \")\n",
    "    tmsg.showinfo(\"Done Processing\", \"Found {} files\".format(str(total_files)))\n",
    "    \n",
    "    \n",
    "    \n",
    "    "
   ]
  },
  {
   "cell_type": "code",
   "execution_count": 15,
   "id": "3ec62139",
   "metadata": {
    "scrolled": true
   },
   "outputs": [],
   "source": [
    "root=Tk()\n",
    "root.title(\"File Browser and PDF Merger\")\n",
    "root.wm_iconbitmap(\"icon.ico\")\n",
    "root.geometry(\"1200x500\")\n",
    "\n",
    "root.minsize(1200,500)\n",
    "root.maxsize(1200,500)\n",
    "\n",
    "# Creating the heading\n",
    "\n",
    "title=Label(root,text=\"File Browser and PDF Merging Tool\", bg=\"pink\", fg=\"black\",\n",
    "           font=\"helvetica 20\", relief=SUNKEN)\n",
    "title.grid(row=0, column=1)\n",
    "\n",
    "\n",
    "\n",
    "\n",
    "pdf_list=[]\n",
    "\n",
    "\n",
    "# Creating the label and file input space\n",
    "#frame1=Frame(root, bg='black', pady=20, padx=20).pack(side='left')\n",
    "\n",
    "file_input_label=Label(text=\"File Directory\", bg='pink', fg=\"black\", borderwidth=2,relief=SUNKEN)\n",
    "#file_input_label.pack(side='left', anchor='nw')\n",
    "file_input_label.grid(row=1, column=0, pady=20)\n",
    "\n",
    "\n",
    "file_directory_var=StringVar()\n",
    "file_directory_var.set(\"\")\n",
    "\n",
    "file_directory_entry=Entry(root, textvariable=file_directory_var, borderwidth=2,relief=SUNKEN)\n",
    "#file_directory_entry.pack(side=\"left\", anchor='nw', fill=X)\n",
    "\n",
    "file_directory_entry.grid(row=1,column=1, pady=20, padx=10)\n",
    "\n",
    "\n",
    "# search files button\n",
    "\n",
    "search_btn=Button(root, text=\"Search Files\", command=searchFiles, bg='pink', fg='black')\n",
    "search_btn.grid(row=2, column=0)\n",
    "\n",
    "\n",
    "\n",
    "# text box search label\n",
    "found_files_label = Label(root, text=\"Found Files: \", bg='pink', fg='black')\n",
    "found_files_label.grid(row=3, column=0, padx=10, pady=20)\n",
    "\n",
    "\n",
    "\n",
    "# text box to store the found files\n",
    "\n",
    "found_files_text_box= Text(root, width=90, height=10)\n",
    "found_files_text_box.grid(row=3, column=1, padx=10, pady=20)\n",
    "\n",
    "\n",
    "\n",
    "\n",
    "# merge pdf button\n",
    "\n",
    "merge_pdf_btn=Button(root, text=\"Merge PDFs\", command=merge_pdfs, bg='pink', fg='black')\n",
    "merge_pdf_btn.grid(row=4, column=0)\n",
    "\n",
    "\n",
    "\n",
    "# Creating the status bar\n",
    "\n",
    "\n",
    "statusvar=StringVar() # status variable\n",
    "statusvar.set(\"                              Ready                           \")\n",
    "status_bar=Label(root, textvariable=statusvar, bg=\"pink\", fg=\"black\", anchor='w', relief=SUNKEN)\n",
    "#status_bar.pack(side=\"bottom\", fill=X)\n",
    "status_bar.grid(row=5, column=0, columnspan=3, pady=100)\n",
    "\n",
    "\n",
    "\n",
    "root.config(bg=\"Black\")\n",
    "\n",
    "root.mainloop()\n"
   ]
  },
  {
   "cell_type": "code",
   "execution_count": null,
   "id": "dfc108e0",
   "metadata": {},
   "outputs": [],
   "source": []
  },
  {
   "cell_type": "code",
   "execution_count": null,
   "id": "626b1eb8",
   "metadata": {},
   "outputs": [],
   "source": []
  }
 ],
 "metadata": {
  "kernelspec": {
   "display_name": "Python 3",
   "language": "python",
   "name": "python3"
  },
  "language_info": {
   "codemirror_mode": {
    "name": "ipython",
    "version": 3
   },
   "file_extension": ".py",
   "mimetype": "text/x-python",
   "name": "python",
   "nbconvert_exporter": "python",
   "pygments_lexer": "ipython3",
   "version": "3.8.8"
  }
 },
 "nbformat": 4,
 "nbformat_minor": 5
}
